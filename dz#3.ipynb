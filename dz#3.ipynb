{
  "nbformat": 4,
  "nbformat_minor": 0,
  "metadata": {
    "colab": {
      "name": "Untitled0.ipynb",
      "provenance": [],
      "authorship_tag": "ABX9TyPxtwfRUL6PeivQMIf02qGP",
      "include_colab_link": true
    },
    "kernelspec": {
      "name": "python3",
      "display_name": "Python 3"
    },
    "language_info": {
      "name": "python"
    }
  },
  "cells": [
    {
      "cell_type": "markdown",
      "metadata": {
        "id": "view-in-github",
        "colab_type": "text"
      },
      "source": [
        "<a href=\"https://colab.research.google.com/github/NavruzBekk/python/blob/main/dz%233.ipynb\" target=\"_parent\"><img src=\"https://colab.research.google.com/assets/colab-badge.svg\" alt=\"Open In Colab\"/></a>"
      ]
    },
    {
      "cell_type": "code",
      "execution_count": 25,
      "metadata": {
        "colab": {
          "base_uri": "https://localhost:8080/",
          "height": 41
        },
        "id": "udrMcITXGbsB",
        "outputId": "81cbb72a-bed4-4aa4-93aa-3d4e103658af"
      },
      "outputs": [
        {
          "output_type": "execute_result",
          "data": {
            "text/plain": [
              "    -1 \n",
              "    ───\n",
              "     n \n",
              "n⋅n!   "
            ],
            "image/png": "[encoded data removed]",
            "text/latex": "$\\displaystyle n n!^{- \\frac{1}{n}}$"
          },
          "metadata": {},
          "execution_count": 25
        }
      ],
      "source": [
        "# Импорт модуля math \n",
        "import math\n",
        "from sympy import *\n",
        "init_printing()\n",
        "\n",
        "\n",
        "a=Symbol('a')\n",
        "b=Symbol('b')\n",
        "n=Symbol('n')\n",
        "\n",
        "b=factorial(n)\n",
        "a = n/b**(1/n)\n",
        "a\n"
      ]
    },
    {
      "cell_type": "code",
      "source": [
        "limit(a, n, oo)\n"
      ],
      "metadata": {
        "colab": {
          "base_uri": "https://localhost:8080/",
          "height": 39
        },
        "id": "ncqKcEFVHSpg",
        "outputId": "3b031223-5b3d-4c96-c0e8-cf25f50bc977"
      },
      "execution_count": 26,
      "outputs": [
        {
          "output_type": "execute_result",
          "data": {
            "text/plain": [
              "ℯ"
            ],
            "image/png": "[encoded data removed]",
            "text/latex": "$\\displaystyle e$"
          },
          "metadata": {},
          "execution_count": 26
        }
      ]
    }
  ]
}